{
 "cells": [
  {
   "cell_type": "code",
   "execution_count": null,
   "id": "24c763c0-6329-4256-8f2b-34afb846f86c",
   "metadata": {},
   "outputs": [],
   "source": [
    "!pip install SVM"
   ]
  },
  {
   "cell_type": "code",
   "execution_count": null,
   "id": "3c28fabd-32ba-4b8a-bc52-71b5ad7fdc64",
   "metadata": {},
   "outputs": [],
   "source": [
    "import numpy as np\n",
    "import pandas as pd\n",
    "import matplotlib.pyplot as plt\n",
    "import seaborn as sns\n",
    "import re  # used for pattern matching and text manipulation.\n",
    "import string\n",
    "import nltk #a powerful library for working with human language data.\n",
    "from nltk.corpus import stopwords #for cleaning\n",
    "from nltk.stem import LancasterStemmer ##for cleaning\n",
    "from sklearn.feature_extraction.text import TfidfVectorizer\n",
    "from sklearn.svm import SVC\n",
    "from sklearn.model_selection import train_test_split\n",
    "from sklearn.metrics import accuracy_score"
   ]
  },
  {
   "cell_type": "code",
   "execution_count": null,
   "id": "a377b152-b969-4326-b0cf-fd8216c9532d",
   "metadata": {},
   "outputs": [],
   "source": [
    "train_path=r\"C:\\Users\\lenovo\\Desktop\\codsoft\\Genre Classification Dataset\\train_data.txt\"\n",
    "train_data = pd.read_csv(train_path,sep=\":::\",names=[\"TITLE\",\"GENRE\",\"DESCRIPTION\"],engine=\"python\")"
   ]
  },
  {
   "cell_type": "code",
   "execution_count": null,
   "id": "dbdddc4b-c3c0-4384-913d-804b406484fd",
   "metadata": {},
   "outputs": [],
   "source": [
    "train_data.info()"
   ]
  },
  {
   "cell_type": "code",
   "execution_count": null,
   "id": "8bb6359e-876c-47df-ab88-73b03a8bbeb6",
   "metadata": {},
   "outputs": [],
   "source": [
    "train_data.isnull().sum()"
   ]
  },
  {
   "cell_type": "code",
   "execution_count": null,
   "id": "84062b52-eb27-4c89-90c1-b7b672a9500e",
   "metadata": {},
   "outputs": [],
   "source": [
    "train_path=r\"C:\\Users\\lenovo\\Desktop\\codsoft\\Genre Classification Dataset\\test_data.txt\"\n",
    "test_data = pd.read_csv(train_path,sep=\":::\",names=[\"TITLE\",\"DESCRIPTION\"],engine=\"python\")"
   ]
  },
  {
   "cell_type": "code",
   "execution_count": null,
   "id": "02d939f1-3ede-4d08-a09b-649881e29e52",
   "metadata": {},
   "outputs": [],
   "source": [
    "test_data"
   ]
  },
  {
   "cell_type": "code",
   "execution_count": null,
   "id": "f45432e7-014b-4585-99d6-feb1391c2574",
   "metadata": {},
   "outputs": [],
   "source": [
    "test_data.info()"
   ]
  },
  {
   "cell_type": "code",
   "execution_count": null,
   "id": "aaac2d50-21c5-421d-9081-208c242963fc",
   "metadata": {},
   "outputs": [],
   "source": [
    "plt.figure(figsize=(10,15))\n",
    "sns.countplot(data=train_data, y=\"GENRE\", order= train_data[\"GENRE\"].value_counts().index)\n",
    "plt.show()"
   ]
  },
  {
   "cell_type": "code",
   "execution_count": null,
   "id": "a972718d-07ef-4216-af6f-00b7a98fddaa",
   "metadata": {},
   "outputs": [],
   "source": [
    "plt.figure(figsize=(27,7))\n",
    "sns.countplot(data=train_data, x=\"GENRE\", order= train_data[\"GENRE\"].value_counts().index, palette = \"YlGnBu\")\n",
    "plt.show()"
   ]
  },
  {
   "cell_type": "code",
   "execution_count": null,
   "id": "443f4f98-92c3-4117-8f32-09f2362dc8b2",
   "metadata": {},
   "outputs": [],
   "source": [
    "from nltk.corpus import stopwords\n",
    "import nltk\n",
    "nltk.download('stopwords')\n",
    "import re\n",
    "nltk.download('punkt')"
   ]
  },
  {
   "cell_type": "code",
   "execution_count": null,
   "id": "4605587e-7ce1-44ad-9062-1c8a1968f258",
   "metadata": {},
   "outputs": [],
   "source": [
    "stemmer = LancasterStemmer()\n",
    "stop_words = set(stopwords.words(\"english\"))  # Stopwords set\n",
    "\n",
    "def cleaning_data(text):\n",
    "    text = text.lower()\n",
    "    text = re.sub(r'@\\S+', '', text)\n",
    "    text = re.sub(r'http\\S+', '', text)\n",
    "    text = re.sub(r'.pic\\S+', '', text)\n",
    "    text = re.sub(r'[^a-zA-Z+]', ' ', text)  # Change to replace non-characters with a space\n",
    "    text = \"\".join([i for i in text if i not in string.punctuation])\n",
    "    words = nltk.word_tokenize(text)\n",
    "    # Use the predefined stop_words variable instead of redefining it inside the function\n",
    "    text = \" \".join([i for i in words if i not in stop_words and len(i) > 2])\n",
    "    text = re.sub(r\"\\s+\", \" \", text).strip()  # Replace multiple spaces with a single space\n",
    "    return text\n",
    "\n",
    "train_data[\"TextCleaning\"] = train_data[\"DESCRIPTION\"].apply(cleaning_data)\n",
    "test_data[\"TextCleaning\"] = test_data[\"DESCRIPTION\"].apply(cleaning_data)"
   ]
  },
  {
   "cell_type": "code",
   "execution_count": null,
   "id": "3c198481-b1e2-4620-804c-3a0a055e86fa",
   "metadata": {},
   "outputs": [],
   "source": [
    "train_data"
   ]
  },
  {
   "cell_type": "code",
   "execution_count": null,
   "id": "5d335616-1d5b-43ee-98aa-cfdc17032628",
   "metadata": {},
   "outputs": [],
   "source": [
    "vectorize = TfidfVectorizer()\n",
    "\n",
    "X_train = vectorize.fit_transform(train_data[\"TextCleaning\"])\n",
    "\n",
    "X_test = vectorize.transform(test_data[\"TextCleaning\"])"
   ]
  },
  {
   "cell_type": "code",
   "execution_count": null,
   "id": "bf9dac8c-3a99-48e0-ba3d-2c578c20e6e3",
   "metadata": {},
   "outputs": [],
   "source": [
    "X = X_train\n",
    "y = train_data[\"GENRE\"]\n",
    "\n",
    "X_train, X_test, Y_train, Y_test = train_test_split(X, y, test_size= 0.2, random_state=42)"
   ]
  },
  {
   "cell_type": "code",
   "execution_count": null,
   "id": "047ad5e3-4c3c-4385-9ea1-5309b7da121a",
   "metadata": {},
   "outputs": [],
   "source": [
    "model = SVC()\n",
    "model.fit(X_train, Y_train)"
   ]
  },
  {
   "cell_type": "code",
   "execution_count": null,
   "id": "f3733ff1-169b-4819-a703-048e41ccfde1",
   "metadata": {},
   "outputs": [],
   "source": [
    "model.score(X_train, Y_train)"
   ]
  },
  {
   "cell_type": "code",
   "execution_count": null,
   "id": "32f5f9d1-9f8a-41fd-82e1-f71cde935071",
   "metadata": {},
   "outputs": [],
   "source": [
    "y_pred = model.predict(X_test)\n",
    "y_pred"
   ]
  },
  {
   "cell_type": "code",
   "execution_count": null,
   "id": "97849443-8e9e-4b8b-a4f7-e7a07f4757fe",
   "metadata": {},
   "outputs": [],
   "source": [
    "accuracy = accuracy_score(Y_test, y_pred)\n",
    "print(\"Validation Accuracy:\", accuracy)"
   ]
  },
  {
   "cell_type": "code",
   "execution_count": null,
   "id": "57f997c8-7e3d-4e10-9a5e-ce900771a5d5",
   "metadata": {},
   "outputs": [],
   "source": []
  }
 ],
 "metadata": {
  "kernelspec": {
   "display_name": "Python 3 (ipykernel)",
   "language": "python",
   "name": "python3"
  },
  "language_info": {
   "codemirror_mode": {
    "name": "ipython",
    "version": 3
   },
   "file_extension": ".py",
   "mimetype": "text/x-python",
   "name": "python",
   "nbconvert_exporter": "python",
   "pygments_lexer": "ipython3",
   "version": "3.11.9"
  }
 },
 "nbformat": 4,
 "nbformat_minor": 5
}
